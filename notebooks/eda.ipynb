{
 "cells": [
  {
   "cell_type": "code",
   "execution_count": null,
   "id": "3506a3c0",
   "metadata": {
    "vscode": {
     "languageId": "plaintext"
    }
   },
   "outputs": [],
   "source": [
    "# EDA 概要とデータ方針\n",
    "\n",
    "このノートでは Hull Tactical Market Prediction のEDAを行います。\n",
    "\n",
    "- データはGitに含めません。Kaggle APIで毎回取得します。\n",
    "- 取得手順は `README.md` の「データ運用ポリシー（EDA）」を参照してください。\n",
    "- 取得スクリプト: `scripts/fetch_data.sh`（事前に `chmod +x` で実行権限を付与）\n",
    "\n",
    "データ配置（ローカル専用）:\n",
    "- `data/raw/`: 公式zipの展開先\n",
    "- `data/interim/`, `data/processed/`, `data/external/`: 必要に応じて中間生成物を配置（Git管理しない）\n",
    "- `artifacts/`: 学習成果物（Git管理しない）\n"
   ]
  },
  {
   "cell_type": "code",
   "execution_count": null,
   "id": "486c121e",
   "metadata": {},
   "outputs": [],
   "source": [
    "# データの読み込み例（ファイル名は実データに合わせて調整してください）\n",
    "import pandas as pd\n",
    "\n",
    "train_path = \"data/raw/train.parquet\"\n",
    "test_path = \"data/raw/test.parquet\"\n",
    "\n",
    "try:\n",
    "    train = pd.read_parquet(train_path)\n",
    "    test = pd.read_parquet(test_path)\n",
    "    display(train.info())\n",
    "    display(train.head())\n",
    "except FileNotFoundError as e:\n",
    "    print(\"[info] ローカルにデータが見つかりません。先に以下を実行してください:\")\n",
    "    print(\"  ./scripts/fetch_data.sh\")\n",
    "    raise e"
   ]
  }
 ],
 "metadata": {
  "language_info": {
   "name": "python"
  }
 },
 "nbformat": 4,
 "nbformat_minor": 5
}
